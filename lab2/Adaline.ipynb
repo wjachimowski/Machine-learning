{
 "cells": [
  {
   "cell_type": "code",
   "execution_count": 10,
   "metadata": {},
   "outputs": [],
   "source": [
    "import pandas as pd\n",
    "import numpy as np\n",
    "import matplotlib.pyplot as plt\n",
    "import random"
   ]
  },
  {
   "cell_type": "code",
   "execution_count": 11,
   "metadata": {},
   "outputs": [],
   "source": [
    "df = pd.read_csv('https://archive.ics.uci.edu/ml/machine-learning-databases/iris/iris.data',header=None)"
   ]
  },
  {
   "cell_type": "code",
   "execution_count": 12,
   "metadata": {},
   "outputs": [],
   "source": [
    "df = df.mask(df.eq('Iris-virginica')).dropna()\n",
    "del df[1]\n",
    "del df[3]"
   ]
  },
  {
   "cell_type": "code",
   "execution_count": 13,
   "metadata": {},
   "outputs": [
    {
     "data": {
      "text/html": [
       "<div>\n",
       "<style scoped>\n",
       "    .dataframe tbody tr th:only-of-type {\n",
       "        vertical-align: middle;\n",
       "    }\n",
       "\n",
       "    .dataframe tbody tr th {\n",
       "        vertical-align: top;\n",
       "    }\n",
       "\n",
       "    .dataframe thead th {\n",
       "        text-align: right;\n",
       "    }\n",
       "</style>\n",
       "<table border=\"1\" class=\"dataframe\">\n",
       "  <thead>\n",
       "    <tr style=\"text-align: right;\">\n",
       "      <th></th>\n",
       "      <th>0</th>\n",
       "      <th>2</th>\n",
       "      <th>4</th>\n",
       "    </tr>\n",
       "  </thead>\n",
       "  <tbody>\n",
       "    <tr>\n",
       "      <th>95</th>\n",
       "      <td>5.7</td>\n",
       "      <td>4.2</td>\n",
       "      <td>Iris-versicolor</td>\n",
       "    </tr>\n",
       "    <tr>\n",
       "      <th>96</th>\n",
       "      <td>5.7</td>\n",
       "      <td>4.2</td>\n",
       "      <td>Iris-versicolor</td>\n",
       "    </tr>\n",
       "    <tr>\n",
       "      <th>97</th>\n",
       "      <td>6.2</td>\n",
       "      <td>4.3</td>\n",
       "      <td>Iris-versicolor</td>\n",
       "    </tr>\n",
       "    <tr>\n",
       "      <th>98</th>\n",
       "      <td>5.1</td>\n",
       "      <td>3.0</td>\n",
       "      <td>Iris-versicolor</td>\n",
       "    </tr>\n",
       "    <tr>\n",
       "      <th>99</th>\n",
       "      <td>5.7</td>\n",
       "      <td>4.1</td>\n",
       "      <td>Iris-versicolor</td>\n",
       "    </tr>\n",
       "  </tbody>\n",
       "</table>\n",
       "</div>"
      ],
      "text/plain": [
       "      0    2                4\n",
       "95  5.7  4.2  Iris-versicolor\n",
       "96  5.7  4.2  Iris-versicolor\n",
       "97  6.2  4.3  Iris-versicolor\n",
       "98  5.1  3.0  Iris-versicolor\n",
       "99  5.7  4.1  Iris-versicolor"
      ]
     },
     "execution_count": 13,
     "metadata": {},
     "output_type": "execute_result"
    }
   ],
   "source": [
    "df.tail()"
   ]
  },
  {
   "cell_type": "code",
   "execution_count": 91,
   "metadata": {},
   "outputs": [],
   "source": [
    "\n",
    "class Adaline():\n",
    "    def __init__(self):\n",
    "        self.weights = [0.0, 0.0]\n",
    "        self.bias = 0.0\n",
    "        self.gradient = [0.0, 0.0, 0.0]\n",
    "\n",
    "    def decision_function(self, x):\n",
    "        return x\n",
    "\n",
    "    def predict(self, x):\n",
    "        first = x[0]\n",
    "        first = first * float(self.weights[0])\n",
    "        second = x[1]\n",
    "        second = second * float(self.weights[1])\n",
    "        return self.decision_function(first + second + self.bias)\n",
    "\n",
    "    def train(self, x, y, learning_rate=0.0004, iterations=100):\n",
    "        self.weights = [0.0, 0.0]\n",
    "        self.bias = 0.0\n",
    "        self.gradient = [0.0, 0.0, 0.0]\n",
    "        for _ in range(0, iterations):\n",
    "            for i in range(0, len(x)):\n",
    "                predicted_value = self.predict(x[i])\n",
    "                error_in_prediction = (y[i][0] - predicted_value)\n",
    "                for j in range(0, len(self.weights)):\n",
    "                    self.gradient[j + 1] += round(error_in_prediction*x[i][j], 2)\n",
    "                self.gradient[0] += round(error_in_prediction, 2)\n",
    "\n",
    "            self.bias += (round(self.gradient[0],2)*learning_rate)\n",
    "            self.weights[0] += (round(self.gradient[1],2)*learning_rate)\n",
    "            self.weights[1] += (round(self.gradient[2],2)*learning_rate)\n",
    "\n",
    "            self.gradient[0] = 0.0\n",
    "            self.gradient[1] = 0.0\n",
    "            self.gradient[2] = 0.0\n",
    "        return [self.bias] + self.weights\n"
   ]
  },
  {
   "cell_type": "code",
   "execution_count": 95,
   "metadata": {},
   "outputs": [
    {
     "name": "stdout",
     "output_type": "stream",
     "text": [
      "[-0.155988, -0.38967200000000013, 0.8012559999999999]\n"
     ]
    },
    {
     "data": {
      "image/png": "[encoded data removed]",
      "text/plain": [
       "<Figure size 432x288 with 1 Axes>"
      ]
     },
     "metadata": {
      "needs_background": "light"
     },
     "output_type": "display_data"
    }
   ],
   "source": [
    "x = np.array([df[0],df[2]]).T\n",
    "y=np.array([df[4]]).T\n",
    "y = np.where(y == \"Iris-setosa\" ,-1,1)\n",
    "adaline = Adaline()\n",
    "values_for_chart = adaline.train(x,y)\n",
    "print(values_for_chart)\n",
    "plot_dict = {'Iris-setosa': 'red', 'Iris-versicolor': 'blue'}\n",
    "fig, ax = plt.subplots()\n",
    "axes = plt.gca()\n",
    "axes.set_xlim([4,7.2])\n",
    "values_for_chart = values_for_chart[1]/(-1*values_for_chart[2])*x+values_for_chart[0]/(values_for_chart[2]*-1)\n",
    "plt.plot(x, values_for_chart, c=\"black\")\n",
    "ax.scatter(df[0], df[2], c=df[4].apply(lambda x: plot_dict[x]))\n",
    "\n",
    "plt.show()\n",
    "plt.show()"
   ]
  }
 ],
 "metadata": {
  "kernelspec": {
   "display_name": "Python 3",
   "language": "python",
   "name": "python3"
  },
  "language_info": {
   "codemirror_mode": {
    "name": "ipython",
    "version": 3
   },
   "file_extension": ".py",
   "mimetype": "text/x-python",
   "name": "python",
   "nbconvert_exporter": "python",
   "pygments_lexer": "ipython3",
   "version": "3.7.4"
  }
 },
 "nbformat": 4,
 "nbformat_minor": 4
}
